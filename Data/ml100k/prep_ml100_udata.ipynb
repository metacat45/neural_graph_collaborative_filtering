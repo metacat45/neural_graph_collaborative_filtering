{
 "cells": [
  {
   "cell_type": "markdown",
   "id": "949986ab-8c10-411c-8b67-5729e71cabf0",
   "metadata": {},
   "source": [
    "# Creation d'un dataset implicit feedback à partir du fichier u.data  de ml-100k "
   ]
  },
  {
   "cell_type": "code",
   "execution_count": 1,
   "id": "f9ce3ec3-2a94-429a-bb4e-2608da839c88",
   "metadata": {},
   "outputs": [],
   "source": [
    "import numpy as np\n",
    "import pandas as pd\n",
    "\n",
    "df = pd.read_csv(\"ml-100k/u.data\" , sep='\\t',header=None) \n",
    "df.columns = ['user_id','item_id','rating','timestamp']"
   ]
  },
  {
   "cell_type": "code",
   "execution_count": 2,
   "id": "ad655707-b1b2-4892-b9df-7e9e3dbbaf6d",
   "metadata": {},
   "outputs": [],
   "source": [
    "df = df[['user_id','item_id']]"
   ]
  },
  {
   "cell_type": "code",
   "execution_count": 3,
   "id": "23317ac5-3298-458e-9ee0-b1df3fab1973",
   "metadata": {},
   "outputs": [
    {
     "data": {
      "text/html": [
       "<div>\n",
       "<style scoped>\n",
       "    .dataframe tbody tr th:only-of-type {\n",
       "        vertical-align: middle;\n",
       "    }\n",
       "\n",
       "    .dataframe tbody tr th {\n",
       "        vertical-align: top;\n",
       "    }\n",
       "\n",
       "    .dataframe thead th {\n",
       "        text-align: right;\n",
       "    }\n",
       "</style>\n",
       "<table border=\"1\" class=\"dataframe\">\n",
       "  <thead>\n",
       "    <tr style=\"text-align: right;\">\n",
       "      <th></th>\n",
       "      <th>user_id</th>\n",
       "      <th>item_id</th>\n",
       "    </tr>\n",
       "  </thead>\n",
       "  <tbody>\n",
       "    <tr>\n",
       "      <th>0</th>\n",
       "      <td>196</td>\n",
       "      <td>242</td>\n",
       "    </tr>\n",
       "    <tr>\n",
       "      <th>1</th>\n",
       "      <td>186</td>\n",
       "      <td>302</td>\n",
       "    </tr>\n",
       "    <tr>\n",
       "      <th>2</th>\n",
       "      <td>22</td>\n",
       "      <td>377</td>\n",
       "    </tr>\n",
       "    <tr>\n",
       "      <th>3</th>\n",
       "      <td>244</td>\n",
       "      <td>51</td>\n",
       "    </tr>\n",
       "    <tr>\n",
       "      <th>4</th>\n",
       "      <td>166</td>\n",
       "      <td>346</td>\n",
       "    </tr>\n",
       "    <tr>\n",
       "      <th>...</th>\n",
       "      <td>...</td>\n",
       "      <td>...</td>\n",
       "    </tr>\n",
       "    <tr>\n",
       "      <th>99995</th>\n",
       "      <td>880</td>\n",
       "      <td>476</td>\n",
       "    </tr>\n",
       "    <tr>\n",
       "      <th>99996</th>\n",
       "      <td>716</td>\n",
       "      <td>204</td>\n",
       "    </tr>\n",
       "    <tr>\n",
       "      <th>99997</th>\n",
       "      <td>276</td>\n",
       "      <td>1090</td>\n",
       "    </tr>\n",
       "    <tr>\n",
       "      <th>99998</th>\n",
       "      <td>13</td>\n",
       "      <td>225</td>\n",
       "    </tr>\n",
       "    <tr>\n",
       "      <th>99999</th>\n",
       "      <td>12</td>\n",
       "      <td>203</td>\n",
       "    </tr>\n",
       "  </tbody>\n",
       "</table>\n",
       "<p>100000 rows × 2 columns</p>\n",
       "</div>"
      ],
      "text/plain": [
       "       user_id  item_id\n",
       "0          196      242\n",
       "1          186      302\n",
       "2           22      377\n",
       "3          244       51\n",
       "4          166      346\n",
       "...        ...      ...\n",
       "99995      880      476\n",
       "99996      716      204\n",
       "99997      276     1090\n",
       "99998       13      225\n",
       "99999       12      203\n",
       "\n",
       "[100000 rows x 2 columns]"
      ]
     },
     "execution_count": 3,
     "metadata": {},
     "output_type": "execute_result"
    }
   ],
   "source": [
    "df"
   ]
  },
  {
   "cell_type": "code",
   "execution_count": 4,
   "id": "ac9772dd-0bff-4a11-a56d-0cf59cdc689f",
   "metadata": {},
   "outputs": [],
   "source": [
    "n_users = df.user_id.unique().shape[0]\n",
    "n_items = df.item_id.unique().shape[0]\n",
    "\n",
    "# Matrice de notes\n",
    "ratings = np.zeros((n_users, n_items))\n",
    "for row in df.itertuples():\n",
    "    # ASTUCE : row[2] on veut que l'item et user 0 soit noté 1 pour bien distinguer les 1 des 0. A la fin, après exclusion des 0, on retranche 1\n",
    "    # à toutes les données pour rétablir la situation\n",
    "    ratings[row[1]-1, row[2]-1] = row[2]\n"
   ]
  },
  {
   "cell_type": "code",
   "execution_count": 5,
   "id": "1ffca264-a4ba-4bf0-b224-7a1ed4f390a4",
   "metadata": {},
   "outputs": [
    {
     "data": {
      "text/plain": [
       "array([[1., 2., 3., ..., 0., 0., 0.],\n",
       "       [1., 0., 0., ..., 0., 0., 0.],\n",
       "       [0., 0., 0., ..., 0., 0., 0.],\n",
       "       ...,\n",
       "       [1., 0., 0., ..., 0., 0., 0.],\n",
       "       [0., 0., 0., ..., 0., 0., 0.],\n",
       "       [0., 2., 0., ..., 0., 0., 0.]])"
      ]
     },
     "execution_count": 5,
     "metadata": {},
     "output_type": "execute_result"
    }
   ],
   "source": [
    "ratings"
   ]
  },
  {
   "cell_type": "code",
   "execution_count": 6,
   "id": "8afdaff2-9b43-45c0-9108-cae7d41c5412",
   "metadata": {},
   "outputs": [],
   "source": [
    "\n",
    "# On découpe en train/tests, en prenant 10 % notes\n",
    "# de chaque utilisateur pour les placer en test\n",
    "def train_test_split(ratings):\n",
    "    test = np.zeros(ratings.shape)\n",
    "    train = ratings.copy()\n",
    "    for user in range(ratings.shape[0]):\n",
    "        nb = np.count_nonzero(ratings[user, :])\n",
    "        test_ratings = np.random.choice(ratings[user, :].nonzero()[0], \n",
    "                                        size=nb//10, \n",
    "                                        replace=False)\n",
    "        train[user, test_ratings] = 0.\n",
    "        test[user, test_ratings] = ratings[user, test_ratings]\n",
    "        \n",
    "    # Test and training are truly disjoint\n",
    "    assert(np.all((train * test) == 0)) \n",
    "    return train, test\n",
    "\n",
    "train, test = train_test_split(ratings)"
   ]
  },
  {
   "cell_type": "code",
   "execution_count": 7,
   "id": "b454caee-b2b5-4323-9e88-c7e2c56907d1",
   "metadata": {},
   "outputs": [
    {
     "data": {
      "text/plain": [
       "((943, 1682), (943, 1682))"
      ]
     },
     "execution_count": 7,
     "metadata": {},
     "output_type": "execute_result"
    }
   ],
   "source": [
    "train.shape, test.shape"
   ]
  },
  {
   "cell_type": "code",
   "execution_count": 8,
   "id": "598424c8-4409-4920-9fa9-493110aa75f2",
   "metadata": {},
   "outputs": [],
   "source": [
    "train_df = pd.DataFrame(train, dtype = int)\n",
    "train_df[-1]=train_df.index + 1\n",
    "order_columns = sorted(train_df.columns.to_list())\n",
    "train_df = train_df[order_columns]\n",
    "new_train = train_df.to_numpy()"
   ]
  },
  {
   "cell_type": "code",
   "execution_count": 9,
   "id": "5a62b764-4b28-4dea-ba2f-44984e5ac195",
   "metadata": {},
   "outputs": [],
   "source": [
    "train_list = list(new_train)\n",
    "train_list2 = []\n",
    "for elms in train_list:\n",
    "    x = [elm-1 for elm in list(elms)  if elm>0]\n",
    "    train_list2.append(x)"
   ]
  },
  {
   "cell_type": "code",
   "execution_count": 10,
   "id": "aef34a9a-ffa1-4b6a-944d-cef0aeec8f63",
   "metadata": {},
   "outputs": [],
   "source": [
    "test_df = pd.DataFrame(test, dtype = int)\n",
    "test_df[-1]=test_df.index + 1\n",
    "order_columns = sorted(test_df.columns.to_list())\n",
    "test_df = test_df[order_columns]\n",
    "new_test = test_df.to_numpy()\n",
    "test_list = list(new_test)\n",
    "test_list2 = []\n",
    "for elms in test_list:\n",
    "    x = [elm-1 for elm in list(elms)  if elm>0]\n",
    "    test_list2.append(x)"
   ]
  },
  {
   "cell_type": "code",
   "execution_count": 11,
   "id": "0a0e8144-7166-477b-8637-9aa772601481",
   "metadata": {},
   "outputs": [],
   "source": [
    "#train_list2[:2]\n",
    "#test_list2[:2]"
   ]
  },
  {
   "cell_type": "code",
   "execution_count": 12,
   "id": "0f3022f0-7887-4f4b-8e8a-945bed1c9e43",
   "metadata": {},
   "outputs": [
    {
     "data": {
      "text/plain": [
       "246"
      ]
     },
     "execution_count": 12,
     "metadata": {},
     "output_type": "execute_result"
    }
   ],
   "source": [
    "len(train_list2[0])"
   ]
  },
  {
   "cell_type": "code",
   "execution_count": 13,
   "id": "fbd2f522-3915-4124-a81a-62b37919e296",
   "metadata": {},
   "outputs": [],
   "source": [
    "def export(donnees,nom):\n",
    "    file=open(nom,'w')\n",
    "    for items in donnees:\n",
    "        new_item = str(items).replace(',','').replace('[','').replace(']','')\n",
    "        file.writelines(new_item+'\\n')\n",
    "    file.close()"
   ]
  },
  {
   "cell_type": "code",
   "execution_count": 14,
   "id": "ed310bc4-26b3-4fc9-9551-983afa21b881",
   "metadata": {},
   "outputs": [],
   "source": [
    "export(train_list2,'train.txt')\n",
    "export(test_list2,'test.txt')"
   ]
  },
  {
   "cell_type": "code",
   "execution_count": 15,
   "id": "d94e93a7-4161-458b-a39d-3f9fe4057b41",
   "metadata": {},
   "outputs": [
    {
     "name": "stdout",
     "output_type": "stream",
     "text": [
      "0 0 1 3 4 5 6 7 9 10 11 12 14 15 17 18 19 20 21 23 24 25 26 27 28 30 31 32 33 34 35 36 37 38 39 40 41 42 43 44 45 46 47 48 49 50 51 52 53 54 55 56 58 59 60 61 62 63 64 65 66 68 69 70 71 72 73 74 75 76 77 78 79 80 81 82 83 84 85 86 87 88 89 90 91 92 93 94 95 96 97 98 99 100 101 102 103 105 106 107 108 109 110 111 112 113 114 115 116 119 120 121 122 123 124 125 126 127 129 130 131 132 133 134 135 136 137 138 139 140 141 142 143 144 145 147 148 149 150 151 152 153 154 155 156 157 158 159 160 161 162 163 164 165 166 167 168 169 170 171 172 173 174 175 176 177 178 179 180 181 182 183 184 185 186 187 188 189 190 191 192 193 194 195 196 197 199 200 201 202 204 205 206 207 208 209 210 212 213 214 215 216 218 219 220 221 223 224 225 226 229 230 232 233 234 235 236 237 238 240 241 242 243 244 245 246 247 248 249 250 251 253 255 256 257 259 261 263 264 265 266 267 268 269 270 271\n",
      "1 0 9 12 13 18 24 49 99 110 126 236 241 250 254 256 257 268 271 272 273 275 276 277 278 279 280 282 283 284 285 286 287 288 289 290 291 292 293 294 297 298 299 300 301 302 303 304 305 306 308 309 310 311 312 314 315\n",
      "2 180 244 257 259 263 267 270 271 293 298 299 301 302 306 316 317 318 319 320 321 322 323 325 326 327 328 329 330 332 333 334 335 337 338 339 340 342 343 344 345 346 347 348 349 350 351 352 353 354\n",
      "3 10 49 209 257 259 263 270 287 293 300 302 323 326 327 328 353 355 356 357 359 360 361\n",
      "4 0 1 16 20 23 24 28 39 41 62 65 68 69 78 79 88 89 93 94 97 98 99 100 101 104 108 109 120 138 142 143 144 150 152 153 161 162 166 167 168 171 172 173 175 180 182 184 185 188 193 199 203 207 208 210 213 215 221 224 225 226 227 228 229 230 232 233 234 238 240 242 249 256 258 266 362 364 365 366 367 369 371 372 373 375 376 377 378 380 381 382 383 384 385 386 387 389 390 391 392 393 394 396 397 398 399 400 401 402 404 405 406 407 408 409 410 411 412 413 414 415 418 419 420 421 422 423 424 425 426 427 428 429 430 431 432 433 434 435 436 437 438 440 442 443 444 445 446 447 448 449 450 451 452 453 454 455 456\n"
     ]
    }
   ],
   "source": [
    "!head -n 5 train.txt"
   ]
  },
  {
   "cell_type": "code",
   "execution_count": 16,
   "id": "32492678-ffe8-4d7f-a233-5f21bc22d4a9",
   "metadata": {},
   "outputs": [
    {
     "name": "stdout",
     "output_type": "stream",
     "text": [
      "0 2 8 13 16 22 29 57 67 104 117 118 128 146 198 203 211 217 222 227 228 231 239 252 254 258 260 262\n",
      "1 274 281 295 296 307 313\n",
      "2 287 324 331 336 341\n",
      "3 299 358\n",
      "4 49 61 134 209 218 363 368 370 374 379 388 395 403 416 417 439 441\n",
      "5 11 14 69 78 86 99 132 165 169 190 222 237 271 273 339 460 473 506 515 528 533\n",
      "6 7 30 63 67 72 117 130 140 170 177 180 185 189 213 265 366 383 401 430 435 470 471 482 490 500 512 513 550 577 579 582 589 590 611 616 626 633 637 657 658\n",
      "7 176 181 194 257 565\n",
      "8 5 478\n",
      "9 31 39 123 175 178 179 196 339 356 419 496 530 601 610 616 628 651 654\n"
     ]
    }
   ],
   "source": [
    "!head test.txt"
   ]
  }
 ],
 "metadata": {
  "kernelspec": {
   "display_name": "Python 3 (ipykernel)",
   "language": "python",
   "name": "python3"
  },
  "language_info": {
   "codemirror_mode": {
    "name": "ipython",
    "version": 3
   },
   "file_extension": ".py",
   "mimetype": "text/x-python",
   "name": "python",
   "nbconvert_exporter": "python",
   "pygments_lexer": "ipython3",
   "version": "3.8.10"
  },
  "widgets": {
   "application/vnd.jupyter.widget-state+json": {
    "state": {},
    "version_major": 2,
    "version_minor": 0
   }
  }
 },
 "nbformat": 4,
 "nbformat_minor": 5
}
